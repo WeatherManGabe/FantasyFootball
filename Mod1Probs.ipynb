{
 "cells": [
  {
   "cell_type": "code",
   "execution_count": 3,
   "id": "de604229-14f5-498c-8589-68406f396b48",
   "metadata": {},
   "outputs": [
    {
     "name": "stdout",
     "output_type": "stream",
     "text": [
      "37.56198002967895\n"
     ]
    }
   ],
   "source": [
    "rec_yards = [123, 89, 54, 95, 182, 89, 131, 112, 152, 114, 101, 48, 134, 128, 136, 37]\n",
    "\n",
    "avg = sum(rec_yards)/len(rec_yards)\n",
    "\n",
    "summed_sq_deviation = 0 \n",
    "\n",
    "#'week_total' is naming the elements in the list 'rec_yards' so in plain lanaguge it is 'for each week in this list do....'\n",
    "for week_total in rec_yards:\n",
    "    sq_deviation = (week_total - avg)**2 \n",
    "    \n",
    "    #\n",
    "    summed_sq_deviation = summed_sq_deviation + sq_deviation \n",
    "    \n",
    "variance = summed_sq_deviation / len(rec_yards)\n",
    "\n",
    "std_dev = variance ** .5 \n",
    "\n",
    "print(std_dev)"
   ]
  },
  {
   "cell_type": "code",
   "execution_count": null,
   "id": "7e1e46ac-c2de-4d05-8d21-7f7ae2d7fc19",
   "metadata": {},
   "outputs": [],
   "source": [
    "RP_rush = 370"
   ]
  }
 ],
 "metadata": {
  "kernelspec": {
   "display_name": "Python 3 (ipykernel)",
   "language": "python",
   "name": "python3"
  },
  "language_info": {
   "codemirror_mode": {
    "name": "ipython",
    "version": 3
   },
   "file_extension": ".py",
   "mimetype": "text/x-python",
   "name": "python",
   "nbconvert_exporter": "python",
   "pygments_lexer": "ipython3",
   "version": "3.7.12"
  }
 },
 "nbformat": 4,
 "nbformat_minor": 5
}
