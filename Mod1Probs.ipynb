{
 "cells": [
  {
   "cell_type": "code",
   "execution_count": 1,
   "id": "de604229-14f5-498c-8589-68406f396b48",
   "metadata": {},
   "outputs": [
    {
     "name": "stdout",
     "output_type": "stream",
     "text": [
      "37.56198002967895\n"
     ]
    }
   ],
   "source": [
    "rec_yards = [123, 89, 54, 95, 182, 89, 131, 112, 152, 114, 101, 48, 134, 128, 136, 37]\n",
    "\n",
    "avg = sum(rec_yards)/len(rec_yards)\n",
    "\n",
    "summed_sq_deviation = 0 \n",
    "\n",
    "#'week_total' is naming the elements in the list 'rec_yards' so in plain lanaguge it is 'for each week in this list do....'\n",
    "for week_total in rec_yards:\n",
    "    sq_deviation = (week_total - avg)**2 \n",
    "    \n",
    "    #\n",
    "    summed_sq_deviation = summed_sq_deviation + sq_deviation \n",
    "    \n",
    "variance = summed_sq_deviation / len(rec_yards)\n",
    "\n",
    "std_dev = variance ** .5 \n",
    "\n",
    "print(std_dev)"
   ]
  },
  {
   "cell_type": "code",
   "execution_count": 13,
   "id": "7e1e46ac-c2de-4d05-8d21-7f7ae2d7fc19",
   "metadata": {
    "tags": []
   },
   "outputs": [
    {
     "name": "stdout",
     "output_type": "stream",
     "text": [
      "Rashaad Penny is in the interquartile range for rushing yards\n"
     ]
    }
   ],
   "source": [
    "player_name = 'Rashaad Penny'\n",
    "\n",
    "RP_rush = 450\n",
    "\n",
    "percentile_25 = 20\n",
    "\n",
    "percentile_75 = 465\n",
    "\n",
    "if RP_rush > percentile_75: #if this is true then it stops here, if it isn't then it goes down to the next line\n",
    "    print(player_name, 'is below the 25th percentile for all RB yards')\n",
    "elif RP_rush > percentile_25 and RP_rush < percentile_75: #since this is true then it stops here and skips the bottom\n",
    "    print(player_name, 'is in the interquartile range for rushing yards')\n",
    "else:\n",
    "    print(player_name, 'is below the 25th percentile for all RB rushing yards')\n",
    "    "
   ]
  },
  {
   "cell_type": "code",
   "execution_count": 22,
   "id": "bdc352f6-594f-404e-abbf-ec5498a69325",
   "metadata": {},
   "outputs": [
    {
     "name": "stdout",
     "output_type": "stream",
     "text": [
      "Derrick Henry had a yards per carry in 2019 of 5.082508250825082\n",
      "Aaron Jones had a yards per carry in 2019 of 4.593220338983051\n",
      "Christian McCaffrey had a yards per carry in 2019 of 4.832752613240418\n"
     ]
    }
   ],
   "source": [
    "players = [\n",
    "    {\n",
    "        'name': 'Derrick Henry',\n",
    "        'rushing_yds': 1540,\n",
    "        'rushing_att': 303\n",
    "    },\n",
    "    {\n",
    "        'name': 'Aaron Jones',\n",
    "        'rushing_yds': 1084,\n",
    "        'rushing_att': 236,\n",
    "    },\n",
    "    {\n",
    "        'name': 'Christian McCaffrey',\n",
    "        'rushing_yds': 1387,\n",
    "        'rushing_att': 287\n",
    "    }\n",
    "]\n",
    "\n",
    "for player in players:\n",
    "    player_name = player['name'] #Using player['xxx'] we call back to the dictionary to get the information we need from the respective category\n",
    "    \n",
    "    \n",
    "    ypc = player['rushing_yds'] / player['rushing_att']\n",
    "    \n",
    "    print(player_name, 'had a yards per carry in 2019 of', ypc)"
   ]
  },
  {
   "cell_type": "code",
   "execution_count": null,
   "id": "9f62bd13-92cb-4e8c-bc2c-7a34683a8e51",
   "metadata": {},
   "outputs": [],
   "source": []
  }
 ],
 "metadata": {
  "kernelspec": {
   "display_name": "Python 3 (ipykernel)",
   "language": "python",
   "name": "python3"
  },
  "language_info": {
   "codemirror_mode": {
    "name": "ipython",
    "version": 3
   },
   "file_extension": ".py",
   "mimetype": "text/x-python",
   "name": "python",
   "nbconvert_exporter": "python",
   "pygments_lexer": "ipython3",
   "version": "3.7.12"
  }
 },
 "nbformat": 4,
 "nbformat_minor": 5
}
